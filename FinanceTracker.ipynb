{
 "cells": [
  {
   "cell_type": "markdown",
   "metadata": {},
   "source": [
    "# Imports"
   ]
  },
  {
   "cell_type": "code",
   "execution_count": 1,
   "metadata": {},
   "outputs": [],
   "source": [
    "import pandas as pd\n",
    "import matplotlib.pyplot as plt\n",
    "from matplotlib.figure import Figure\n",
    "from matplotlib.backends.backend_tkagg import (FigureCanvasTkAgg, NavigationToolbar2Tk)\n",
    "import mplcursors\n",
    "from tkinter import *\n",
    "from tkinter import ttk, filedialog\n",
    "from tkinter.filedialog import askopenfile\n",
    "\n",
    "%matplotlib inline\n",
    "\n",
    "%matplotlib widget\n",
    "\n",
    "%config InlineBackend.figure_format = 'retina'\n",
    "\n",
    "plt.style.use('seaborn-whitegrid')\n"
   ]
  },
  {
   "cell_type": "markdown",
   "metadata": {},
   "source": [
    "## Functions"
   ]
  },
  {
   "cell_type": "code",
   "execution_count": 2,
   "metadata": {},
   "outputs": [],
   "source": [
    "def split_finance_data(financeData, date1, date2):\n",
    "    transactionTypes = financeData['Type'].unique()   \n",
    "    \n",
    "    mask = (financeData['Date'] >= date1) & (financeData['Date'] <= date2)\n",
    "    croppedFinanceData = financeData.loc[mask]\n",
    "\n",
    "    cashflow = {\"Cashout\" : {},\n",
    "                \"Cashin\" : {}\n",
    "            }\n",
    "\n",
    "    for count,type in enumerate(transactionTypes):\n",
    "        croppedByType = croppedFinanceData[croppedFinanceData['Type'] == type]\n",
    "        cashout = croppedByType['Value'][croppedByType['Value'] < 0].sum()\n",
    "        cashin = croppedByType['Value'][croppedByType['Value'] > 0].sum()\n",
    "        cashflow[\"Cashout\"][transactionTypes[count]] = abs(cashout)\n",
    "        cashflow[\"Cashin\"][transactionTypes[count]] = cashin\n",
    "\n",
    "    print(cashflow)\n",
    "\n",
    "def plot_balance(financeData, win):\n",
    "    # #Change this to produce 3 graphs from 1 function\n",
    "    # fig = Figure(figsize=(4, 15))\n",
    "    # ax1 = fig.add_subplot(311)\n",
    "    # balancePlot = ax1.plot(financeData[\"Date\"], financeData[\"Balance\"])\n",
    "    # ax2 = fig.add_subplot(312)\n",
    "    # balancePlot = ax2.plot(financeData[\"Date\"], financeData[\"Balance\"])\n",
    "    # ax3 = fig.add_subplot(313)\n",
    "    # balancePlot = ax3.plot(financeData[\"Date\"], financeData[\"Balance\"])\n",
    "    # ax1.tick_params(labelrotation=45)\n",
    "\n",
    "    \n",
    "    # canvas = FigureCanvasTkAgg(fig,\n",
    "    #                            master = win)  \n",
    "\n",
    "    \n",
    "    # mplcursors.cursor(balancePlot)\n",
    "    # canvas.draw()\n",
    "  \n",
    "    # canvas.get_tk_widget().grid(row=5, column=0, padx=5, pady=5, columnspan=2)\n",
    "\n",
    "    canvas=Canvas(win,bg='#FFFFFF',width=300,height=300,scrollregion=(0,0,500,500))\n",
    "    hbar=Scrollbar(win,orient=HORIZONTAL)\n",
    "    hbar.pack(side=BOTTOM,fill=X)\n",
    "    hbar.config(command=canvas.xview)\n",
    "    vbar=Scrollbar(win,orient=VERTICAL)\n",
    "    vbar.pack(side=RIGHT,fill=Y)\n",
    "    vbar.config(command=canvas.yview)\n",
    "    canvas.config(width=300,height=300)\n",
    "    canvas.config(xscrollcommand=hbar.set, yscrollcommand=vbar.set)\n",
    "    canvas.pack(side=LEFT,expand=True,fill=BOTH)\n",
    "\n",
    "def upload_file(t1):\n",
    "    global df\n",
    "    f_types = [('CSV files',\"*.csv\"),('All',\"*.*\")]\n",
    "    file = filedialog.askopenfilename(filetypes=f_types)\n",
    "    # title.config(text=file) # display the path \n",
    "    df=pd.read_csv(file) # create DataFrame\n",
    "    df['Date'] = pd.to_datetime(df[\"Date\"], format='%d/%m/%Y')\n",
    "    str1=file\n",
    "    t1.insert(END, str1) # add to Text widget"
   ]
  },
  {
   "cell_type": "markdown",
   "metadata": {},
   "source": [
    "## Tkinter"
   ]
  },
  {
   "cell_type": "code",
   "execution_count": 3,
   "metadata": {},
   "outputs": [],
   "source": [
    "\n",
    "# Creatign window and starting \n",
    "win = Tk()\n",
    "# win.geometry(\"400x400\")  # Size of the window \n",
    "win.title('Finance Tracker')\n",
    "# win.resizable(0,0)\n",
    "# my_font1=('times', 12, 'bold')\n",
    "\n",
    "browse = Button(win, width=15, text='Browse File', command = lambda:upload_file(t1))\n",
    "browse.grid(row=0,column=0,sticky=W, padx=5, pady=5, columnspan=1) \n",
    "\n",
    "t1=Text(win,width=35,height=1)\n",
    "t1.grid(row=0,column=1,sticky=W, padx= 5, columnspan=1)\n",
    "\n",
    "date1Input = Label(win, text='First Date:')\n",
    "date1Input.grid(row=1, column=0, columnspan=1)\n",
    "\n",
    "date1Entry = Entry(win, width=15)\n",
    "date1Entry.grid(row=1, column=1, sticky=W, padx=5, columnspan=1)\n",
    "\n",
    "date2Input = Label(win, text='Second Date:')\n",
    "date2Input.grid(row=2, column=0, pady=5, columnspan=1)\n",
    "\n",
    "date2Entry = Entry(win, width=15)\n",
    "date2Entry.grid(row=2, column=1, sticky=W, padx=5, pady=5, columnspan=1)\n",
    "\n",
    "runOperation = Button(win, width=50, text='Run Data', command= lambda:split_finance_data(df, date1Entry.get(), date2Entry.get()))\n",
    "runOperation.grid(row=3, column=0, columnspan=2)\n",
    "\n",
    "plot_button = Button(win, width=50, height = 2, text = \"Plot Graphs\", command = lambda: plot_balance(df, win))\n",
    "plot_button.grid(row=4, column=0, padx=5, pady=5, columnspan=2)\n",
    "\n",
    "win.mainloop()  # Keep the window open\n",
    "\n",
    "\n"
   ]
  },
  {
   "cell_type": "code",
   "execution_count": null,
   "metadata": {},
   "outputs": [],
   "source": []
  }
 ],
 "metadata": {
  "kernelspec": {
   "display_name": "Python 3.9.6 64-bit",
   "language": "python",
   "name": "python3"
  },
  "language_info": {
   "codemirror_mode": {
    "name": "ipython",
    "version": 3
   },
   "file_extension": ".py",
   "mimetype": "text/x-python",
   "name": "python",
   "nbconvert_exporter": "python",
   "pygments_lexer": "ipython3",
   "version": "3.9.6"
  },
  "orig_nbformat": 4,
  "vscode": {
   "interpreter": {
    "hash": "872dd6e83ceec21de27228dc899ebb0ab4a40ee48814e48aff1c5bd3e32903cc"
   }
  }
 },
 "nbformat": 4,
 "nbformat_minor": 2
}
